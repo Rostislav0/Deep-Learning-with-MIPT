{
  "nbformat": 4,
  "nbformat_minor": 0,
  "metadata": {
    "colab": {
      "name": "Untitled4.ipynb",
      "provenance": [],
      "collapsed_sections": []
    },
    "kernelspec": {
      "name": "python3",
      "display_name": "Python 3"
    },
    "language_info": {
      "name": "python"
    }
  },
  "cells": [
    {
      "cell_type": "code",
      "execution_count": 1,
      "metadata": {
        "id": "i_JkyinMCsZc"
      },
      "outputs": [],
      "source": [
        "import pandas as pd\n",
        "import numpy as np\n",
        "from matplotlib import pyplot as plt"
      ]
    },
    {
      "cell_type": "markdown",
      "source": [
        "## Подготовка данных\n",
        "\n",
        "---\n",
        "\n"
      ],
      "metadata": {
        "id": "FM79f28OBgF_"
      }
    },
    {
      "cell_type": "code",
      "source": [
        "url_submission = 'https://storage.googleapis.com/kagglesdsdata/competitions/26266/2030504/submission.csv?GoogleAccessId=web-data@kaggle-161607.iam.gserviceaccount.com&Expires=1648554821&Signature=m7bR6JPzI%2B9RWWqO6%2BEXSF0BLtq%2FBZHwCDITwKCXkMMsEkozOrvHkmaPwCsW1cQW8MQXzph2uu1wxsKm9ZBF0zzen07kqcYMiO9Gl93Sv10SS%2B3%2F6VeBQ5%2Ba9HjZ5IcSMddeEDTGmyZ1zDRYTTbp1y8VZI4ZJMIjkwjFWGezRf93XMdy8FJYVT8KbB8MqU9bcslMNU85ZZLz5brd4A7bVwQyV%2Bf0Z7JRj5yOF6MqZa%2FSdg63rTceVbM%2Bzglu6v%2F4hMMJkyMLvg5SOLXv7WuE3ZB6IjiktRTc3MuN7GlcQFRz6hMfzclK4VZpZx5q%2BANAglZdvGlKeuWL7spR%2BAacyQ%3D%3D&response-content-disposition=attachment%3B+filename%3Dsubmission.csv'\n",
        "url_train = 'https://storage.googleapis.com/kagglesdsdata/competitions/26266/2030504/train.csv?GoogleAccessId=web-data@kaggle-161607.iam.gserviceaccount.com&Expires=1648555912&Signature=cuCHU0bplcaYczD5CTDkIKR2O5ABPFe2Nzmkpyb9WRHxw8hQSZ1mEY4AizbWye0xqcN1fzyUrIAGjFEWqlATZOrqt92zt1bwKcgWKme10vtuyLnyO4WelwGobQNmPC75wSweRf5hNDAYZIMok688h0dVm4anGWULxflRM1AmDL%2BWim49RX7dxgK8E26hKqwMw24hZRY17b902sYAh%2B1wB%2FSdaYM9NXnbLItcbXj%2BeWDq5vYvVSdkbDGy7XOKJ1ouHWS1bouKKu4L8GNEM9xUGsP%2Fsuhg7HZh7IjGBKxg3LnrezrE%2FzFEyju9ECXPUH9f4r9dVNZJ7N5Yd1j%2FvfkUGA%3D%3D&response-content-disposition=attachment%3B+filename%3Dtrain.csv'\n",
        "url_test = 'https://storage.googleapis.com/kagglesdsdata/competitions/26266/2030504/test.csv?GoogleAccessId=web-data@kaggle-161607.iam.gserviceaccount.com&Expires=1648570305&Signature=g7gzfZJNTrR7JafslQoE2BY76%2BY2WNUdnnlt3vd37q7%2B2daG6xVaGq1YlI6U45HvpzLuchuYjIL3YNE0EIBtBZF4IPs76f6%2F7PHSlU4Y1EA%2BjDTDzlDyVDPNUwViFlCEv%2FUcAKwY3btXS4QjQVcwKQhVnG1dTcI6OKUFCnVj%2BkxLEC8RE0RniMAdDQObFLtUawY8sCcH7RLqaWrpT%2FwiLVAcbWLJjt3moLMPQBAAj7CY8MkiIj1Ze9N6jk6Ex4IcsS4GCRan22BrmpJ2Ky14b%2BWUsFYN5vEx2GXDKfDF9ahysi%2FV3mBQJdlPd1FDRuhFNoVPwLQcM1N%2F7DM4JHddrQ%3D%3D&response-content-disposition=attachment%3B+filename%3Dtest.csv'\n",
        "train = pd.read_csv(url_train)\n",
        "test = pd.read_csv(url_test)\n",
        "submission = pd.read_csv(url_submission)"
      ],
      "metadata": {
        "id": "rVj_ibzNCwre"
      },
      "execution_count": 28,
      "outputs": []
    },
    {
      "cell_type": "markdown",
      "source": [
        "Проверим колличество пропущенных значений"
      ],
      "metadata": {
        "id": "hh_QbW7OB7pm"
      }
    },
    {
      "cell_type": "code",
      "source": [
        "train.isna().sum()"
      ],
      "metadata": {
        "id": "mTJ90P-6E8Wd"
      },
      "execution_count": null,
      "outputs": []
    },
    {
      "cell_type": "code",
      "source": [
        "test.isna().sum()"
      ],
      "metadata": {
        "id": "ABjc8utAAQQI"
      },
      "execution_count": null,
      "outputs": []
    },
    {
      "cell_type": "markdown",
      "source": [
        "Поставим средние значения вместо пробелов в тестовой и тренировочной выборке "
      ],
      "metadata": {
        "id": "BWIei9O-BtTB"
      }
    },
    {
      "cell_type": "code",
      "source": [
        "train.replace(' ', 0, inplace=True)\n",
        "train['TotalSpent'] = train['TotalSpent'].astype(float)"
      ],
      "metadata": {
        "id": "YPq5IpEE--AD"
      },
      "execution_count": 5,
      "outputs": []
    },
    {
      "cell_type": "code",
      "source": [
        "test.replace(' ', 0, inplace=True)\n",
        "test['TotalSpent'] = test['TotalSpent'].astype(float)"
      ],
      "metadata": {
        "id": "ILCm-OZA__B8"
      },
      "execution_count": 6,
      "outputs": []
    },
    {
      "cell_type": "markdown",
      "source": [
        "## Анализ данных\n",
        "\n",
        "---\n",
        "\n"
      ],
      "metadata": {
        "id": "M83zLmSCBAcQ"
      }
    },
    {
      "cell_type": "code",
      "source": [
        "# Численные признаки\n",
        "num_cols = [\n",
        "    'ClientPeriod',\n",
        "    'MonthlySpending',\n",
        "    'TotalSpent'\n",
        "]\n",
        "\n",
        "# Категориальные признаки\n",
        "cat_cols = [\n",
        "    'Sex',\n",
        "    'IsSeniorCitizen',\n",
        "    'HasPartner',\n",
        "    'HasChild',\n",
        "    'HasPhoneService',\n",
        "    'HasMultiplePhoneNumbers',\n",
        "    'HasInternetService',\n",
        "    'HasOnlineSecurityService',\n",
        "    'HasOnlineBackup',\n",
        "    'HasDeviceProtection',\n",
        "    'HasTechSupportAccess',\n",
        "    'HasOnlineTV',\n",
        "    'HasMovieSubscription',\n",
        "    'HasContractPhone',\n",
        "    'IsBillingPaperless',\n",
        "    'PaymentMethod'\n",
        "]\n",
        "\n",
        "feature_cols = num_cols + cat_cols\n",
        "target_col = 'Churn'"
      ],
      "metadata": {
        "id": "9trpzHyRCZo4"
      },
      "execution_count": 7,
      "outputs": []
    },
    {
      "cell_type": "code",
      "source": [
        "num_viz = train[num_cols]\n",
        "num_viz.hist()\n",
        "plt.show()\n",
        "for i in cat_cols:\n",
        "    train[i].value_counts().plot(kind='bar')\n",
        "    plt.title(i)\n",
        "    plt.show()"
      ],
      "metadata": {
        "id": "lL7F8bacD4DQ"
      },
      "execution_count": null,
      "outputs": []
    },
    {
      "cell_type": "markdown",
      "source": [
        "## Применение линейных моделей\n",
        "\n",
        "---\n",
        "\n",
        "\n"
      ],
      "metadata": {
        "id": "zoZF6zA-EVLf"
      }
    },
    {
      "cell_type": "code",
      "source": [
        "from sklearn.linear_model import LogisticRegression, LogisticRegressionCV\n",
        "from sklearn.model_selection import train_test_split, GridSearchCV\n",
        "from sklearn.preprocessing import StandardScaler, RobustScaler, LabelEncoder, OneHotEncoder\n",
        "from sklearn.pipeline import make_pipeline\n",
        "from sklearn.compose import ColumnTransformer\n",
        "from sklearn.metrics import roc_auc_score"
      ],
      "metadata": {
        "id": "mw-XO7x4Ef5H"
      },
      "execution_count": 9,
      "outputs": []
    },
    {
      "cell_type": "code",
      "source": [
        "y_train = train['Churn']\n",
        "X_train = train.drop('Churn', axis=1)"
      ],
      "metadata": {
        "id": "J8rVpaGpEhHO"
      },
      "execution_count": 10,
      "outputs": []
    },
    {
      "cell_type": "code",
      "source": [
        "prep_pipeline = ColumnTransformer([\n",
        "        ('num', StandardScaler(), num_cols),\n",
        "        ('cat', OneHotEncoder(sparse=False), cat_cols)\n",
        "    ])"
      ],
      "metadata": {
        "id": "zAGGsNIzF2Di"
      },
      "execution_count": 11,
      "outputs": []
    },
    {
      "cell_type": "code",
      "source": [
        "cls = make_pipeline(\n",
        "    prep_pipeline,\n",
        "    LogisticRegression(random_state=42, solver=\"saga\", max_iter=10000)\n",
        "    )    \n",
        "# сетка подбираемых гиперпараметров\n",
        "param_grid = {\n",
        "    'logisticregression__penalty' : ['l1', 'l2', 'elasticnet', None],\n",
        "    'logisticregression__C': [100, 10, 1, 0.1, 0.01, 0.001],\n",
        "    'logisticregression__class_weight': ['balanced', None]\n",
        "}\n",
        "\n",
        "model = GridSearchCV(cls, param_grid, cv=5, verbose=0, scoring='roc_auc', refit=True, n_jobs=-1)\n",
        "# обучаем модель\n",
        "model.fit(X_train, y_train)\n",
        "\n",
        "# смотрим лучше параметры\n",
        "print(\"Best ROC-AUC metric:\", round(model.best_score_,4))\n",
        "print(\"Best estimator's parameters:\", model.best_params_)"
      ],
      "metadata": {
        "id": "JxvJnYOJP4SW"
      },
      "execution_count": null,
      "outputs": []
    },
    {
      "cell_type": "markdown",
      "source": [
        "Best ROC-AUC metric: 0.8451\n",
        "\n",
        "Best estimator's parameters: {'logisticregression__C': 100, 'logisticregression__class_weight': None, 'logisticregression__penalty': 'l1'}"
      ],
      "metadata": {
        "id": "oTfMQBIFYTaU"
      }
    },
    {
      "cell_type": "markdown",
      "source": [
        "## Градиентный бустинг\n",
        "\n",
        "---\n",
        "\n"
      ],
      "metadata": {
        "id": "nqcZ2DqXYnUa"
      }
    },
    {
      "cell_type": "code",
      "source": [
        "X_train_none, X_valid_none, y_train_none, y_valid_none = train_test_split(X_train, y_train, test_size=0.2, random_state=42)"
      ],
      "metadata": {
        "id": "WsGhSt2bYsCY"
      },
      "execution_count": 14,
      "outputs": []
    },
    {
      "cell_type": "code",
      "source": [
        "!pip install catboost\n",
        "from catboost import CatBoostClassifier\n",
        "cb_none = CatBoostClassifier()\n",
        "cb_none.fit(X_train_none, y_train_none, eval_set=(X_valid_none, y_valid_none),cat_features=cat_cols, verbose=250)"
      ],
      "metadata": {
        "id": "4KWt0Z1oYzDQ"
      },
      "execution_count": null,
      "outputs": []
    },
    {
      "cell_type": "code",
      "source": [
        "preds = cb_none.predict_proba(X_valid_none)[:,1]"
      ],
      "metadata": {
        "id": "DUVX1q0cY-P3"
      },
      "execution_count": 20,
      "outputs": []
    },
    {
      "cell_type": "code",
      "source": [
        "roc_auc_score(y_valid_none, preds)"
      ],
      "metadata": {
        "colab": {
          "base_uri": "https://localhost:8080/"
        },
        "id": "0wSyTuFaZGt7",
        "outputId": "6cf9717c-e662-4a20-c1eb-93a66e575bde"
      },
      "execution_count": 21,
      "outputs": [
        {
          "output_type": "execute_result",
          "data": {
            "text/plain": [
              "0.828497150931373"
            ]
          },
          "metadata": {},
          "execution_count": 21
        }
      ]
    },
    {
      "cell_type": "code",
      "source": [
        "cb_model = CatBoostClassifier(\n",
        "    loss_function='Logloss',\n",
        "    cat_features=cat_cols,\n",
        "    random_seed = 42,\n",
        "    eval_metric='AUC',\n",
        "    verbose=False)"
      ],
      "metadata": {
        "id": "JgMkhT5ZZuhz"
      },
      "execution_count": 22,
      "outputs": []
    },
    {
      "cell_type": "code",
      "source": [
        "best_cb_model = CatBoostClassifier(\n",
        "    depth=3,\n",
        "    iterations=200,\n",
        "    eval_metric='AUC',\n",
        "    l2_leaf_reg=4.25,\n",
        "    learning_rate=0.052222222222222225,\n",
        "    loss_function='Logloss',\n",
        "    cat_features=cat_cols,\n",
        "    random_seed=42,\n",
        "    verbose=200)"
      ],
      "metadata": {
        "id": "ET7K_7rrZxS0"
      },
      "execution_count": 23,
      "outputs": []
    },
    {
      "cell_type": "code",
      "source": [
        "best_cb_model.fit(X_train, y_train)"
      ],
      "metadata": {
        "colab": {
          "base_uri": "https://localhost:8080/"
        },
        "id": "IeFVd7RDZyx6",
        "outputId": "5559f8dd-d9e9-49cd-9c82-aef5bb6e32e4"
      },
      "execution_count": 24,
      "outputs": [
        {
          "output_type": "stream",
          "name": "stdout",
          "text": [
            "0:\ttotal: 20.2ms\tremaining: 4.01s\n",
            "199:\ttotal: 2.41s\tremaining: 0us\n"
          ]
        },
        {
          "output_type": "execute_result",
          "data": {
            "text/plain": [
              "<catboost.core.CatBoostClassifier at 0x7f791a5ba690>"
            ]
          },
          "metadata": {},
          "execution_count": 24
        }
      ]
    },
    {
      "cell_type": "code",
      "source": [
        "pred_train = best_cb_model.predict_proba(X_train)[:,1]\n",
        "roc_auc_score(y_train, pred_train)"
      ],
      "metadata": {
        "colab": {
          "base_uri": "https://localhost:8080/"
        },
        "id": "DLdYmn5nZ2tK",
        "outputId": "8804ea4e-aee4-4355-e1a8-8a837a3db512"
      },
      "execution_count": 25,
      "outputs": [
        {
          "output_type": "execute_result",
          "data": {
            "text/plain": [
              "0.8564638342769525"
            ]
          },
          "metadata": {},
          "execution_count": 25
        }
      ]
    },
    {
      "cell_type": "markdown",
      "source": [
        "ROC-AUC 0.85646"
      ],
      "metadata": {
        "id": "arep6WKAZ71i"
      }
    },
    {
      "cell_type": "markdown",
      "source": [
        "## Предсказания\n",
        "\n",
        "---\n",
        "\n"
      ],
      "metadata": {
        "id": "WgHS4CjAaCJw"
      }
    },
    {
      "cell_type": "code",
      "source": [
        "submission['Churn'] = best_cb_model.predict_proba(test)[:,1]"
      ],
      "metadata": {
        "id": "TZlGd4AFaiI5"
      },
      "execution_count": 31,
      "outputs": []
    },
    {
      "cell_type": "code",
      "source": [
        "submission.head(5)"
      ],
      "metadata": {
        "colab": {
          "base_uri": "https://localhost:8080/",
          "height": 206
        },
        "id": "O4ZzcV5Fai9r",
        "outputId": "7601dde7-bea4-4a6d-dda9-f94d9894122a"
      },
      "execution_count": 32,
      "outputs": [
        {
          "output_type": "execute_result",
          "data": {
            "text/plain": [
              "   Id     Churn\n",
              "0   0  0.037553\n",
              "1   1  0.659613\n",
              "2   2  0.615803\n",
              "3   3  0.016142\n",
              "4   4  0.007408"
            ],
            "text/html": [
              "\n",
              "  <div id=\"df-8b652f55-a353-4ebe-943b-27086fb0fed8\">\n",
              "    <div class=\"colab-df-container\">\n",
              "      <div>\n",
              "<style scoped>\n",
              "    .dataframe tbody tr th:only-of-type {\n",
              "        vertical-align: middle;\n",
              "    }\n",
              "\n",
              "    .dataframe tbody tr th {\n",
              "        vertical-align: top;\n",
              "    }\n",
              "\n",
              "    .dataframe thead th {\n",
              "        text-align: right;\n",
              "    }\n",
              "</style>\n",
              "<table border=\"1\" class=\"dataframe\">\n",
              "  <thead>\n",
              "    <tr style=\"text-align: right;\">\n",
              "      <th></th>\n",
              "      <th>Id</th>\n",
              "      <th>Churn</th>\n",
              "    </tr>\n",
              "  </thead>\n",
              "  <tbody>\n",
              "    <tr>\n",
              "      <th>0</th>\n",
              "      <td>0</td>\n",
              "      <td>0.037553</td>\n",
              "    </tr>\n",
              "    <tr>\n",
              "      <th>1</th>\n",
              "      <td>1</td>\n",
              "      <td>0.659613</td>\n",
              "    </tr>\n",
              "    <tr>\n",
              "      <th>2</th>\n",
              "      <td>2</td>\n",
              "      <td>0.615803</td>\n",
              "    </tr>\n",
              "    <tr>\n",
              "      <th>3</th>\n",
              "      <td>3</td>\n",
              "      <td>0.016142</td>\n",
              "    </tr>\n",
              "    <tr>\n",
              "      <th>4</th>\n",
              "      <td>4</td>\n",
              "      <td>0.007408</td>\n",
              "    </tr>\n",
              "  </tbody>\n",
              "</table>\n",
              "</div>\n",
              "      <button class=\"colab-df-convert\" onclick=\"convertToInteractive('df-8b652f55-a353-4ebe-943b-27086fb0fed8')\"\n",
              "              title=\"Convert this dataframe to an interactive table.\"\n",
              "              style=\"display:none;\">\n",
              "        \n",
              "  <svg xmlns=\"http://www.w3.org/2000/svg\" height=\"24px\"viewBox=\"0 0 24 24\"\n",
              "       width=\"24px\">\n",
              "    <path d=\"M0 0h24v24H0V0z\" fill=\"none\"/>\n",
              "    <path d=\"M18.56 5.44l.94 2.06.94-2.06 2.06-.94-2.06-.94-.94-2.06-.94 2.06-2.06.94zm-11 1L8.5 8.5l.94-2.06 2.06-.94-2.06-.94L8.5 2.5l-.94 2.06-2.06.94zm10 10l.94 2.06.94-2.06 2.06-.94-2.06-.94-.94-2.06-.94 2.06-2.06.94z\"/><path d=\"M17.41 7.96l-1.37-1.37c-.4-.4-.92-.59-1.43-.59-.52 0-1.04.2-1.43.59L10.3 9.45l-7.72 7.72c-.78.78-.78 2.05 0 2.83L4 21.41c.39.39.9.59 1.41.59.51 0 1.02-.2 1.41-.59l7.78-7.78 2.81-2.81c.8-.78.8-2.07 0-2.86zM5.41 20L4 18.59l7.72-7.72 1.47 1.35L5.41 20z\"/>\n",
              "  </svg>\n",
              "      </button>\n",
              "      \n",
              "  <style>\n",
              "    .colab-df-container {\n",
              "      display:flex;\n",
              "      flex-wrap:wrap;\n",
              "      gap: 12px;\n",
              "    }\n",
              "\n",
              "    .colab-df-convert {\n",
              "      background-color: #E8F0FE;\n",
              "      border: none;\n",
              "      border-radius: 50%;\n",
              "      cursor: pointer;\n",
              "      display: none;\n",
              "      fill: #1967D2;\n",
              "      height: 32px;\n",
              "      padding: 0 0 0 0;\n",
              "      width: 32px;\n",
              "    }\n",
              "\n",
              "    .colab-df-convert:hover {\n",
              "      background-color: #E2EBFA;\n",
              "      box-shadow: 0px 1px 2px rgba(60, 64, 67, 0.3), 0px 1px 3px 1px rgba(60, 64, 67, 0.15);\n",
              "      fill: #174EA6;\n",
              "    }\n",
              "\n",
              "    [theme=dark] .colab-df-convert {\n",
              "      background-color: #3B4455;\n",
              "      fill: #D2E3FC;\n",
              "    }\n",
              "\n",
              "    [theme=dark] .colab-df-convert:hover {\n",
              "      background-color: #434B5C;\n",
              "      box-shadow: 0px 1px 3px 1px rgba(0, 0, 0, 0.15);\n",
              "      filter: drop-shadow(0px 1px 2px rgba(0, 0, 0, 0.3));\n",
              "      fill: #FFFFFF;\n",
              "    }\n",
              "  </style>\n",
              "\n",
              "      <script>\n",
              "        const buttonEl =\n",
              "          document.querySelector('#df-8b652f55-a353-4ebe-943b-27086fb0fed8 button.colab-df-convert');\n",
              "        buttonEl.style.display =\n",
              "          google.colab.kernel.accessAllowed ? 'block' : 'none';\n",
              "\n",
              "        async function convertToInteractive(key) {\n",
              "          const element = document.querySelector('#df-8b652f55-a353-4ebe-943b-27086fb0fed8');\n",
              "          const dataTable =\n",
              "            await google.colab.kernel.invokeFunction('convertToInteractive',\n",
              "                                                     [key], {});\n",
              "          if (!dataTable) return;\n",
              "\n",
              "          const docLinkHtml = 'Like what you see? Visit the ' +\n",
              "            '<a target=\"_blank\" href=https://colab.research.google.com/notebooks/data_table.ipynb>data table notebook</a>'\n",
              "            + ' to learn more about interactive tables.';\n",
              "          element.innerHTML = '';\n",
              "          dataTable['output_type'] = 'display_data';\n",
              "          await google.colab.output.renderOutput(dataTable, element);\n",
              "          const docLink = document.createElement('div');\n",
              "          docLink.innerHTML = docLinkHtml;\n",
              "          element.appendChild(docLink);\n",
              "        }\n",
              "      </script>\n",
              "    </div>\n",
              "  </div>\n",
              "  "
            ]
          },
          "metadata": {},
          "execution_count": 32
        }
      ]
    }
  ]
}